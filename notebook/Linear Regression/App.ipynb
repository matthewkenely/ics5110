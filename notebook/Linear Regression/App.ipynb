{
 "cells": [
  {
   "cell_type": "markdown",
   "metadata": {},
   "source": [
    "# **ICS5110 Notebook**\n",
    "\n",
    "View the web page for this project [here](https://mkenely.com/ics5110).\n",
    "\n",
    "- [Feature Reference](https://mkenely.com/ics5110/features)\n",
    "- [Feature Distributions](https://mkenely.com/ics5110/distributions)\n",
    "- [Correlation Matrix](https://mkenely.com/ics5110/correlation_matrix)\n",
    "- [Feature vs G3 Scatter Plots](https://mkenely.com/ics5110/scatter_plots)\n"
   ]
  },
  {
   "cell_type": "markdown",
   "metadata": {},
   "source": [
    "### **Imports**"
   ]
  },
  {
   "cell_type": "code",
   "execution_count": null,
   "metadata": {},
   "outputs": [],
   "source": [
    "import os\n",
    "import sys\n",
    "\n",
    "import numpy as np\n",
    "import pandas as pd\n",
    "\n",
    "from sklearn.preprocessing import LabelEncoder\n",
    "from sklearn.model_selection import train_test_split\n",
    "\n",
    "import pickle\n",
    "\n",
    "from gradio_implementations import pca_gradio\n",
    "from gradio_implementations import ensemble_gradio\n",
    "from gradio_implementations import kmc_gradio\n",
    "from gradio_implementations import lr_gradio\n",
    "\n",
    "import matplotlib.pyplot as plt"
   ]
  },
  {
   "cell_type": "markdown",
   "metadata": {},
   "source": [
    "### **Data**"
   ]
  },
  {
   "cell_type": "code",
   "execution_count": 2,
   "metadata": {},
   "outputs": [],
   "source": [
    "portugese_df = pd.read_csv('./data/Portuguese.csv')\n",
    "\n",
    "le = LabelEncoder()\n",
    "encoding_mappings = {}\n",
    "\n",
    "for column in portugese_df.columns:\n",
    "    if portugese_df[column].dtype == 'object':\n",
    "        portugese_df[column] = le.fit_transform(portugese_df[column])\n",
    "        encoding_mappings[column] = {index: label for index, label in enumerate(le.classes_)}\n",
    "\n",
    "X = portugese_df.drop('G3', axis=1)\n",
    "X = X.drop('G1', axis=1)\n",
    "X = X.drop('G2', axis=1)\n",
    "\n",
    "y = portugese_df['G3']\n",
    "\n",
    "X_train, X_test, y_train, y_test = train_test_split(X, y, test_size=0.2)"
   ]
  },
  {
   "cell_type": "markdown",
   "metadata": {},
   "source": [
    "### **Models**"
   ]
  },
  {
   "cell_type": "markdown",
   "metadata": {},
   "source": [
    "#### **Linear Regression (Jan)**"
   ]
  },
  {
   "cell_type": "markdown",
   "metadata": {},
   "source": [
    "**Imports**"
   ]
  },
  {
   "cell_type": "code",
   "execution_count": 3,
   "metadata": {},
   "outputs": [],
   "source": [
    "from sklearn.linear_model import LinearRegression"
   ]
  },
  {
   "cell_type": "markdown",
   "metadata": {},
   "source": [
    "**Data**"
   ]
  },
  {
   "cell_type": "code",
   "execution_count": 4,
   "metadata": {},
   "outputs": [],
   "source": [
    "X_all = portugese_df.drop('G3', axis=1)\n",
    "X_no_grades = X_all.drop(['G1', 'G2'], axis=1)\n",
    "X_only_grades = X_all[['G1', 'G2']]\n",
    "\n",
    "# Reorder so G1 and G2 are first\n",
    "X_all = pd.concat([X_only_grades, X_no_grades], axis=1)\n",
    "\n",
    "y = portugese_df['G3']"
   ]
  },
  {
   "cell_type": "markdown",
   "metadata": {},
   "source": [
    "**Models**"
   ]
  },
  {
   "cell_type": "code",
   "execution_count": 5,
   "metadata": {},
   "outputs": [],
   "source": [
    "# 3 logistic regression models trained on different sets of features\n",
    "linear_regression_all = LinearRegression()\n",
    "linear_regression_no_grades = LinearRegression()\n",
    "linear_regression_only_grades = LinearRegression()"
   ]
  },
  {
   "cell_type": "code",
   "execution_count": 6,
   "metadata": {},
   "outputs": [],
   "source": [
    "linear_regression_all.fit(X_all, y)\n",
    "linear_regression_no_grades.fit(X_no_grades, y)\n",
    "linear_regression_only_grades.fit(X_only_grades, y)\n",
    "\n",
    "# Save to pickle for gradio\n",
    "with open('../gradio/lr_gradio/models/linear_regression_all.pkl', 'wb') as f:\n",
    "    pickle.dump(linear_regression_all, f)\n",
    "\n",
    "with open('../gradio/lr_gradio/models/linear_regression_no_grades.pkl', 'wb') as f:\n",
    "    pickle.dump(linear_regression_no_grades, f)\n",
    "\n",
    "with open('../gradio/lr_gradio/models/linear_regression_only_grades.pkl', 'wb') as f:\n",
    "    pickle.dump(linear_regression_only_grades, f)"
   ]
  },
  {
   "cell_type": "code",
   "execution_count": 14,
   "metadata": {},
   "outputs": [],
   "source": [
    "y_pred_all = linear_regression_all.predict(X_all)\n",
    "y_pred_no_grades = linear_regression_no_grades.predict(X_no_grades)\n",
    "y_pred_only_grades = linear_regression_only_grades.predict(X_only_grades)"
   ]
  },
  {
   "cell_type": "code",
   "execution_count": 15,
   "metadata": {},
   "outputs": [],
   "source": [
    "accuracy_all = linear_regression_all.score(X_all, y)\n",
    "accuracy_no_grades = linear_regression_no_grades.score(X_no_grades, y)\n",
    "accuracy_only_grades = linear_regression_only_grades.score(X_only_grades, y)"
   ]
  },
  {
   "cell_type": "code",
   "execution_count": 16,
   "metadata": {},
   "outputs": [],
   "source": [
    "results_df = pd.DataFrame({\n",
    "    'model': ['All Features', 'No Grades', 'Only Grades'],\n",
    "    'accuracy': [accuracy_all, accuracy_no_grades, accuracy_only_grades]\n",
    "    })\n",
    "\n",
    "results_df['accuracy'] = results_df['accuracy'].apply(lambda x: round(x, 3))\n",
    "\n",
    "results_df.set_index('model', inplace=True)"
   ]
  },
  {
   "cell_type": "code",
   "execution_count": 17,
   "metadata": {},
   "outputs": [
    {
     "data": {
      "text/html": [
       "<div>\n",
       "<style scoped>\n",
       "    .dataframe tbody tr th:only-of-type {\n",
       "        vertical-align: middle;\n",
       "    }\n",
       "\n",
       "    .dataframe tbody tr th {\n",
       "        vertical-align: top;\n",
       "    }\n",
       "\n",
       "    .dataframe thead th {\n",
       "        text-align: right;\n",
       "    }\n",
       "</style>\n",
       "<table border=\"1\" class=\"dataframe\">\n",
       "  <thead>\n",
       "    <tr style=\"text-align: right;\">\n",
       "      <th></th>\n",
       "      <th>accuracy</th>\n",
       "    </tr>\n",
       "    <tr>\n",
       "      <th>model</th>\n",
       "      <th></th>\n",
       "    </tr>\n",
       "  </thead>\n",
       "  <tbody>\n",
       "    <tr>\n",
       "      <th>All Features</th>\n",
       "      <td>0.858</td>\n",
       "    </tr>\n",
       "    <tr>\n",
       "      <th>No Grades</th>\n",
       "      <td>0.345</td>\n",
       "    </tr>\n",
       "    <tr>\n",
       "      <th>Only Grades</th>\n",
       "      <td>0.848</td>\n",
       "    </tr>\n",
       "  </tbody>\n",
       "</table>\n",
       "</div>"
      ],
      "text/plain": [
       "              accuracy\n",
       "model                 \n",
       "All Features     0.858\n",
       "No Grades        0.345\n",
       "Only Grades      0.848"
      ]
     },
     "execution_count": 17,
     "metadata": {},
     "output_type": "execute_result"
    }
   ],
   "source": [
    "results_df"
   ]
  },
  {
   "cell_type": "markdown",
   "metadata": {},
   "source": [
    "### **Gradio**"
   ]
  },
  {
   "cell_type": "markdown",
   "metadata": {},
   "source": [
    "#### **Linear Regression**"
   ]
  },
  {
   "cell_type": "code",
   "execution_count": 7,
   "metadata": {},
   "outputs": [
    {
     "name": "stdout",
     "output_type": "stream",
     "text": [
      "* Running on local URL:  http://127.0.0.1:7860\n",
      "\n",
      "To create a public link, set `share=True` in `launch()`.\n"
     ]
    },
    {
     "data": {
      "text/html": [
       "<div><iframe src=\"http://127.0.0.1:7860/\" width=\"100%\" height=\"500\" allow=\"autoplay; camera; microphone; clipboard-read; clipboard-write;\" frameborder=\"0\" allowfullscreen></iframe></div>"
      ],
      "text/plain": [
       "<IPython.core.display.HTML object>"
      ]
     },
     "metadata": {},
     "output_type": "display_data"
    },
    {
     "name": "stdout",
     "output_type": "stream",
     "text": [
      "Keyboard interruption in main thread... closing server.\n"
     ]
    }
   ],
   "source": [
    "lr_gradio.make_gradio(\n",
    "    [linear_regression_all, linear_regression_no_grades, linear_regression_only_grades],\n",
    ")"
   ]
  }
 ],
 "metadata": {
  "kernelspec": {
   "display_name": "ics5110",
   "language": "python",
   "name": "python3"
  },
  "language_info": {
   "codemirror_mode": {
    "name": "ipython",
    "version": 3
   },
   "file_extension": ".py",
   "mimetype": "text/x-python",
   "name": "python",
   "nbconvert_exporter": "python",
   "pygments_lexer": "ipython3",
   "version": "3.12.7"
  }
 },
 "nbformat": 4,
 "nbformat_minor": 2
}
