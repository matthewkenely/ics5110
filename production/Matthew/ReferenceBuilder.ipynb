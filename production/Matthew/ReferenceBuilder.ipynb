{
 "cells": [
  {
   "cell_type": "code",
   "execution_count": 2,
   "metadata": {},
   "outputs": [],
   "source": [
    "import numpy as np\n",
    "import pandas as pd"
   ]
  },
  {
   "cell_type": "markdown",
   "metadata": {},
   "source": [
    "### **Data Descriptions**"
   ]
  },
  {
   "cell_type": "code",
   "execution_count": 3,
   "metadata": {},
   "outputs": [],
   "source": [
    "description_df = pd.read_csv('../data/student_data_description.csv')"
   ]
  },
  {
   "cell_type": "markdown",
   "metadata": {},
   "source": [
    "### **Label Encodings**"
   ]
  },
  {
   "cell_type": "code",
   "execution_count": 4,
   "metadata": {},
   "outputs": [],
   "source": [
    "portugese_df = pd.read_csv('../data/Portuguese.csv')\n",
    "original_df = portugese_df.copy()\n",
    "\n",
    "import pandas as pd\n",
    "from sklearn.preprocessing import LabelEncoder\n",
    "\n",
    "# Sample DataFrame (replace with your actual DataFrame)\n",
    "# Example: portugese_df = pd.DataFrame({'Color': ['Red', 'Green', 'Blue', 'Red', 'Blue']})\n",
    "\n",
    "le = LabelEncoder()\n",
    "encoding_mappings = {}  # Dictionary to store mappings for each column\n",
    "\n",
    "# Loop through each column in the DataFrame\n",
    "for column in portugese_df.columns:\n",
    "    if portugese_df[column].dtype == 'object':\n",
    "        portugese_df[column] = le.fit_transform(portugese_df[column])\n",
    "        encoding_mappings[column] = {label: index for index, label in enumerate(le.classes_)}"
   ]
  },
  {
   "cell_type": "markdown",
   "metadata": {},
   "source": [
    "### **Generate Table**"
   ]
  },
  {
   "cell_type": "code",
   "execution_count": 5,
   "metadata": {},
   "outputs": [],
   "source": [
    "# Cols: Feature, Type, Description, Encoding Mappings\n",
    "html_df = pd.DataFrame(columns=['Feature', 'Type', 'Description', 'Encoding Mappings'])"
   ]
  },
  {
   "cell_type": "code",
   "execution_count": 6,
   "metadata": {},
   "outputs": [],
   "source": [
    "html_df['Feature'] = portugese_df.columns\n",
    "html_df['Type'] = original_df.dtypes.values\n",
    "html_df['Description'] = description_df['Description']\n",
    "html_df['Encoding Mappings'] = html_df['Feature'].map(encoding_mappings, na_action='ignore')"
   ]
  },
  {
   "cell_type": "code",
   "execution_count": 8,
   "metadata": {},
   "outputs": [],
   "source": [
    "# Replace NaN values with empty strings\n",
    "html_df = html_df.fillna('')\n",
    "\n",
    "# remove {} from encoding mappings\n",
    "html_df['Encoding Mappings'] = html_df['Encoding Mappings'].apply(lambda x: str(x).replace('{', '').replace('}', ''))\n",
    "# Convert to HTML table\n",
    "html = html_df.to_html(index=False)\n",
    "csv = html_df.to_csv(index=False)\n",
    "\n",
    "# Save to file\n",
    "with open('references.html', 'w') as f:\n",
    "    f.write(html)\n",
    "\n",
    "with open('references.csv', 'w') as f:\n",
    "    f.write(csv)"
   ]
  },
  {
   "cell_type": "code",
   "execution_count": null,
   "metadata": {},
   "outputs": [],
   "source": []
  },
  {
   "cell_type": "code",
   "execution_count": null,
   "metadata": {},
   "outputs": [],
   "source": []
  }
 ],
 "metadata": {
  "kernelspec": {
   "display_name": "ics5110",
   "language": "python",
   "name": "python3"
  },
  "language_info": {
   "codemirror_mode": {
    "name": "ipython",
    "version": 3
   },
   "file_extension": ".py",
   "mimetype": "text/x-python",
   "name": "python",
   "nbconvert_exporter": "python",
   "pygments_lexer": "ipython3",
   "version": "3.12.7"
  }
 },
 "nbformat": 4,
 "nbformat_minor": 2
}
