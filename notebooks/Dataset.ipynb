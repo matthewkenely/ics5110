{
 "cells": [
  {
   "cell_type": "markdown",
   "metadata": {},
   "source": [
    "### **Imports**"
   ]
  },
  {
   "cell_type": "code",
   "execution_count": null,
   "metadata": {},
   "outputs": [],
   "source": [
    "import os\n",
    "import sys\n",
    "\n",
    "import numpy as np\n",
    "import pandas as pd\n",
    "from sklearn.preprocessing import LabelEncoder\n",
    "\n",
    "import plotly.graph_objects as go\n",
    "from plotly.subplots import make_subplots\n",
    "\n",
    "import gradio as gr"
   ]
  },
  {
   "cell_type": "markdown",
   "metadata": {},
   "source": [
    "### **Dataset**"
   ]
  },
  {
   "cell_type": "markdown",
   "metadata": {},
   "source": [
    "Dataset provides data for two subjects: Maths and Portugese. We will focus on the Portugese dataset initially as it contains more data."
   ]
  },
  {
   "cell_type": "code",
   "execution_count": 9,
   "metadata": {},
   "outputs": [],
   "source": [
    "portugese_df = pd.read_csv('./data/Portuguese.csv')\n",
    "description_df = pd.read_csv('./data/student_data_description.csv')"
   ]
  },
  {
   "cell_type": "markdown",
   "metadata": {},
   "source": [
    "### **Feature Analysis**"
   ]
  },
  {
   "cell_type": "markdown",
   "metadata": {},
   "source": [
    "#### **Compile Distributions**"
   ]
  },
  {
   "cell_type": "markdown",
   "metadata": {},
   "source": [
    "#### **Compile Distributions**"
   ]
  },
  {
   "cell_type": "code",
   "execution_count": 10,
   "metadata": {},
   "outputs": [],
   "source": [
    "distributions = {}\n",
    "tooltip_text = {}\n",
    "\n",
    "for feature in portugese_df.columns:\n",
    "    value_counts = portugese_df[feature].value_counts()\n",
    "    distributions[feature] = value_counts\n",
    "    tooltip_text[feature] = description_df[description_df['Column'] == feature]['Description'].values[0]\n",
    "        "
   ]
  },
  {
   "cell_type": "code",
   "execution_count": 11,
   "metadata": {},
   "outputs": [],
   "source": [
    "from plotly.subplots import make_subplots\n",
    "import plotly.graph_objects as go\n",
    "\n",
    "m = 50\n",
    "\n",
    "# Create a subplot with 11 rows and 3 columns\n",
    "fig = make_subplots(\n",
    "    rows=11,\n",
    "    cols=3,\n",
    "    subplot_titles=list(distributions.keys()),\n",
    "    vertical_spacing=0.025,\n",
    "    # horizontal_spacing=0.05,\n",
    ")\n",
    "\n",
    "# Set title, bold\n",
    "fig.update_layout(title_text='Feature Distributions', title_font=dict(size=24, color='#212121', weight='bold'))\n",
    "\n",
    "# Plot histogram in each subplot\n",
    "for i, (feature, counts) in enumerate(distributions.items()):\n",
    "    sorted_counts = counts.sort_index(ascending=False)\n",
    "    fig.add_trace(\n",
    "        # Vertical bar, set color of max value to red\n",
    "        go.Bar(\n",
    "            x=sorted_counts.index, \n",
    "            y=sorted_counts.values, \n",
    "            name=feature, \n",
    "            orientation='v', \n",
    "            marker=dict(color='#414141'), \n",
    "            showlegend=False,\n",
    "            # Add annotation above all values\n",
    "            text=sorted_counts.values,\n",
    "            textposition='outside',\n",
    "            textfont=dict(size=14, color='black'),\n",
    "            width=0.75,\n",
    "        ),\n",
    "\n",
    "        row=(i // 3) + 1,  # Adjust the row index for 11 rows\n",
    "        col=(i % 3) + 1,   # Adjust the column index for 3 columns\n",
    "    )\n",
    "\n",
    "# Update layout\n",
    "fig.update_layout(\n",
    "    plot_bgcolor='white',\n",
    "    # Remove legend\n",
    "    showlegend=False,\n",
    "    height=5000,  # Set a fixed height for scrolling\n",
    "    margin=dict(l=m, r=m, t=m*2, b=m, pad=5),\n",
    ")\n",
    "\n",
    "\n",
    "fig.update_annotations(font=dict(size=18, color='#212121', family='Arial', weight='bold'), \n",
    "                      xanchor='left', yanchor='top', xshift=0, yshift=40)\n",
    "\n",
    "# Save to HTML\n",
    "fig.write_html('distributions.html', include_plotlyjs='cdn')  # Use CDN for better loading performance"
   ]
  },
  {
   "cell_type": "markdown",
   "metadata": {},
   "source": [
    "#### **Correlation Matrix**"
   ]
  },
  {
   "cell_type": "code",
   "execution_count": 39,
   "metadata": {},
   "outputs": [],
   "source": [
    "# Initialize the label encoder\n",
    "le = LabelEncoder()\n",
    "\n",
    "# Apply label encoding to each categorical column\n",
    "for col in portugese_df.select_dtypes(include=['object']).columns:\n",
    "    portugese_df[col] = le.fit_transform(portugese_df[col])\n",
    "\n",
    "# Now you can compute the correlation matrix\n",
    "correlation_matrix = portugese_df.corr()\n",
    "mask = np.triu(np.ones_like(correlation_matrix, dtype=bool), k=1)\n",
    "correlation_matrix = correlation_matrix.mask(mask)"
   ]
  },
  {
   "cell_type": "code",
   "execution_count": 45,
   "metadata": {},
   "outputs": [],
   "source": [
    "fig = go.Figure(\n",
    "    data=go.Heatmap(\n",
    "        z=correlation_matrix.values,\n",
    "        x=correlation_matrix.columns,\n",
    "        y=correlation_matrix.columns,\n",
    "        colorscale='RdBu',\n",
    "    )\n",
    ")\n",
    "\n",
    "fig.update_layout(\n",
    "    title='Correlation Matrix',\n",
    "    title_font=dict(size=24, color='#212121', weight='bold'),\n",
    "    margin=dict(l=m, r=m, t=m*2, b=m, pad=5),\n",
    "    width=800,\n",
    "    height=800,\n",
    "    plot_bgcolor='white',\n",
    ")\n",
    "\n",
    "fig.update_xaxes(title_text=None, title_font=dict(size=20, color='#212121', weight='bold'), tickangle=-45, tickfont=dict(size=14, color='#212121'))\n",
    "fig.update_yaxes(title_text=None, title_font=dict(size=20, color='#212121', weight='bold'), autorange='reversed', tickfont=dict(size=14, color='#212121'))\n",
    "\n",
    "fig.write_html('correlation_matrix.html', include_plotlyjs='cdn')"
   ]
  },
  {
   "cell_type": "code",
   "execution_count": null,
   "metadata": {},
   "outputs": [],
   "source": []
  },
  {
   "cell_type": "code",
   "execution_count": null,
   "metadata": {},
   "outputs": [],
   "source": []
  }
 ],
 "metadata": {
  "kernelspec": {
   "display_name": "ics5110",
   "language": "python",
   "name": "python3"
  },
  "language_info": {
   "codemirror_mode": {
    "name": "ipython",
    "version": 3
   },
   "file_extension": ".py",
   "mimetype": "text/x-python",
   "name": "python",
   "nbconvert_exporter": "python",
   "pygments_lexer": "ipython3",
   "version": "3.12.7"
  }
 },
 "nbformat": 4,
 "nbformat_minor": 2
}
