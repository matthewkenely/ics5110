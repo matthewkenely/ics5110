{
 "cells": [
  {
   "cell_type": "markdown",
   "metadata": {},
   "source": [
    "### **Imports**"
   ]
  },
  {
   "cell_type": "code",
   "execution_count": 10,
   "metadata": {},
   "outputs": [],
   "source": [
    "import os\n",
    "import sys\n",
    "\n",
    "import numpy as np\n",
    "import pandas as pd\n",
    "from sklearn.preprocessing import LabelEncoder\n",
    "\n",
    "import plotly.graph_objects as go\n",
    "from plotly.subplots import make_subplots\n",
    "\n",
    "import gradio as gr"
   ]
  },
  {
   "cell_type": "markdown",
   "metadata": {},
   "source": [
    "### **Dataset**"
   ]
  },
  {
   "cell_type": "markdown",
   "metadata": {},
   "source": [
    "Dataset provides data for two subjects: Maths and Portugese. We will focus on the Portugese dataset initially as it contains more data."
   ]
  },
  {
   "cell_type": "code",
   "execution_count": 11,
   "metadata": {},
   "outputs": [],
   "source": [
    "portugese_df = pd.read_csv('./data/Portuguese.csv')\n",
    "description_df = pd.read_csv('./data/student_data_description.csv')"
   ]
  },
  {
   "cell_type": "markdown",
   "metadata": {},
   "source": [
    "### **Feature Analysis**"
   ]
  },
  {
   "cell_type": "markdown",
   "metadata": {},
   "source": [
    "#### **Compile Distributions**"
   ]
  },
  {
   "cell_type": "markdown",
   "metadata": {},
   "source": [
    "#### **Compile Distributions**"
   ]
  },
  {
   "cell_type": "code",
   "execution_count": 12,
   "metadata": {},
   "outputs": [],
   "source": [
    "distributions = {}\n",
    "tooltip_text = {}\n",
    "\n",
    "for feature in portugese_df.columns:\n",
    "    value_counts = portugese_df[feature].value_counts()\n",
    "    distributions[feature] = value_counts\n",
    "    tooltip_text[feature] = description_df[description_df['Column'] == feature]['Description'].values[0]\n",
    "        "
   ]
  },
  {
   "cell_type": "code",
   "execution_count": 13,
   "metadata": {},
   "outputs": [],
   "source": [
    "from plotly.subplots import make_subplots\n",
    "import plotly.graph_objects as go\n",
    "\n",
    "m = 50\n",
    "\n",
    "# Create a subplot with 11 rows and 3 columns\n",
    "fig = make_subplots(\n",
    "    rows=11,\n",
    "    cols=3,\n",
    "    subplot_titles=list(distributions.keys()),\n",
    "    vertical_spacing=0.025,\n",
    "    # horizontal_spacing=0.05,\n",
    ")\n",
    "\n",
    "# Set title, bold\n",
    "fig.update_layout(title_text='Feature Distributions', title_font=dict(size=24, color='#212121', weight='bold'))\n",
    "\n",
    "# Plot histogram in each subplot\n",
    "for i, (feature, counts) in enumerate(distributions.items()):\n",
    "    sorted_counts = counts.sort_index(ascending=False)\n",
    "    fig.add_trace(\n",
    "        # Vertical bar, set color of max value to red\n",
    "        go.Bar(\n",
    "            x=sorted_counts.index, \n",
    "            y=sorted_counts.values, \n",
    "            name=feature, \n",
    "            orientation='v', \n",
    "            marker=dict(color='#414141'), \n",
    "            showlegend=False,\n",
    "            # Add annotation above all values\n",
    "            text=sorted_counts.values,\n",
    "            textposition='outside',\n",
    "            textfont=dict(size=14, color='black'),\n",
    "            width=0.75,\n",
    "        ),\n",
    "\n",
    "        row=(i // 3) + 1,  # Adjust the row index for 11 rows\n",
    "        col=(i % 3) + 1,   # Adjust the column index for 3 columns\n",
    "    )\n",
    "\n",
    "# Update layout\n",
    "fig.update_layout(\n",
    "    plot_bgcolor='white',\n",
    "    # Remove legend\n",
    "    showlegend=False,\n",
    "    height=5000,  # Set a fixed height for scrolling\n",
    "    margin=dict(l=m, r=m, t=m*2, b=m, pad=5),\n",
    ")\n",
    "\n",
    "\n",
    "fig.update_annotations(font=dict(size=18, color='#212121', family='Arial', weight='bold'), \n",
    "                      xanchor='left', yanchor='top', xshift=0, yshift=40)\n",
    "\n",
    "# Save to HTML\n",
    "fig.write_html('../docs/distributions.html', include_plotlyjs='cdn')  # Use CDN for better loading performance"
   ]
  },
  {
   "cell_type": "markdown",
   "metadata": {},
   "source": [
    "#### **Correlation Matrix**"
   ]
  },
  {
   "cell_type": "code",
   "execution_count": 83,
   "metadata": {},
   "outputs": [],
   "source": [
    "# Initialize the label encoder\n",
    "le = LabelEncoder()\n",
    "\n",
    "# Apply label encoding to each categorical column\n",
    "for col in portugese_df.select_dtypes(include=['object']).columns:\n",
    "    portugese_df[col] = le.fit_transform(portugese_df[col])\n",
    "\n",
    "# Now you can compute the correlation matrix\n",
    "correlation_matrix = portugese_df.corr()\n",
    "mask = np.triu(np.ones_like(correlation_matrix, dtype=bool), k=1)\n",
    "correlation_matrix = correlation_matrix.mask(mask)"
   ]
  },
  {
   "cell_type": "code",
   "execution_count": 80,
   "metadata": {},
   "outputs": [],
   "source": [
    "fig = go.Figure(\n",
    "    data=go.Heatmap(\n",
    "        z=correlation_matrix.values,\n",
    "        x=correlation_matrix.columns,\n",
    "        y=correlation_matrix.columns,\n",
    "        colorscale='RdBu',\n",
    "        zmin=-1,\n",
    "        zmax=1,\n",
    "    )\n",
    ")\n",
    "\n",
    "fig.update_layout(\n",
    "    title='Correlation Matrix',\n",
    "    title_font=dict(size=24, color='#212121', weight='bold'),\n",
    "    margin=dict(l=m, r=m, t=m*2, b=m, pad=5),\n",
    "    width=800,\n",
    "    height=800,\n",
    "    plot_bgcolor='white',\n",
    ")\n",
    "\n",
    "fig.update_xaxes(title_text=None, title_font=dict(size=20, color='#212121', weight='bold'), tickangle=-45, tickfont=dict(size=14, color='#212121'))\n",
    "fig.update_yaxes(title_text=None, title_font=dict(size=20, color='#212121', weight='bold'), autorange='reversed', tickfont=dict(size=14, color='#212121'))\n",
    "\n",
    "fig.write_html('../docs/correlation_matrix.html', include_plotlyjs='cdn')"
   ]
  },
  {
   "cell_type": "code",
   "execution_count": 91,
   "metadata": {},
   "outputs": [],
   "source": [
    "import plotly.graph_objects as go\n",
    "import numpy as np\n",
    "\n",
    "# Assuming correlation_matrix is already defined as a DataFrame\n",
    "\n",
    "# Prepare the data for the scatter plot\n",
    "z_values = correlation_matrix.values\n",
    "x_labels = correlation_matrix.columns\n",
    "y_labels = correlation_matrix.columns\n",
    "\n",
    "# Create a figure\n",
    "fig = go.Figure()\n",
    "\n",
    "# Prepare lists to hold the data for a single scatter trace\n",
    "x_data = []\n",
    "y_data = []\n",
    "sizes = []\n",
    "colors = []\n",
    "\n",
    "# Set a maximum marker size\n",
    "max_marker_size = 16  # Adjust this value as needed\n",
    "\n",
    "# Loop through the matrix to gather data for a single trace\n",
    "for i in range(len(y_labels)):\n",
    "    for j in range(len(x_labels)):\n",
    "        if not np.isnan(z_values[i, j]) and i != j:  # Only plot if the value is not NaN and not on the diagonal\n",
    "            x_data.append(j)  # X position (column index)\n",
    "            y_data.append(i)  # Y position (row index)\n",
    "            size = abs(z_values[i, j] * 30)  # Scale the size of the circle\n",
    "            # Cap the size to max_marker_size\n",
    "            sizes.append(min(size, max_marker_size) + 2)\n",
    "            colors.append(z_values[i, j])  # Color based on correlation value\n",
    "\n",
    "# Add a single scatter trace\n",
    "fig.add_trace(\n",
    "    go.Scatter(\n",
    "        x=x_data,\n",
    "        y=y_data,\n",
    "        mode='markers',\n",
    "        marker=dict(\n",
    "            size=sizes,  # Use the list of sizes\n",
    "            color=colors,  # Use the list of colors based on correlation\n",
    "            colorscale='RdBu',  # Maintain the original colorscale\n",
    "            colorbar=dict(title='Correlation'),  # Add color bar for reference\n",
    "            cmin=-1,  # Set the minimum value of the color scale\n",
    "            cmax=1,  # Set the maximum value of the color scale\n",
    "            showscale=True,  # Show the color scale\n",
    "            line=dict(width=1, color='DarkSlateGrey'),  # Optional outline for visibility\n",
    "            symbol='square'\n",
    "        ),\n",
    "        text=[f'{x_labels[j]} vs {y_labels[i]}: {z_values[i, j]:.2f}' for i, j in zip(y_data, x_data)],  # Hover text\n",
    "        hoverinfo='text',\n",
    "    )\n",
    ")\n",
    "\n",
    "m = 40\n",
    "\n",
    "# Update layout settings\n",
    "fig.update_layout(\n",
    "    title='Correlation Matrix',\n",
    "    title_font=dict(size=24, color='#212121', weight='bold'),\n",
    "    margin=dict(l=m, r=m, t=m * 2, b=m, pad=0),\n",
    "    # width=1200,\n",
    "    # height=800,\n",
    "    plot_bgcolor='white',  # Set the plot background color to white\n",
    "    # Show gridlines\n",
    "    xaxis=dict(showgrid=True, gridwidth=1, gridcolor='rgba(0,0,0,0.05)', zeroline=False),\n",
    "    yaxis=dict(showgrid=True, gridwidth=1, gridcolor='rgba(0,0,0,0.05)', zeroline=False),\n",
    ")\n",
    "\n",
    "# Update x and y axes to match the original settings\n",
    "fig.update_xaxes(\n",
    "    title_text=None,\n",
    "    title_font=dict(size=20, color='#212121', weight='bold'),\n",
    "    tickangle=-45,\n",
    "    tickfont=dict(size=14, color='#212121'),\n",
    "    tickvals=list(range(len(x_labels))),  # Set ticks to match labels\n",
    "    ticktext=x_labels  # Set tick labels\n",
    ")\n",
    "fig.update_yaxes(\n",
    "    title_text=None,\n",
    "    title_font=dict(size=20, color='#212121', weight='bold'),\n",
    "    autorange='reversed',  # Reverse the y-axis\n",
    "    tickfont=dict(size=14, color='#212121'),\n",
    "    tickvals=list(range(len(y_labels))),  # Set ticks to match labels\n",
    "    ticktext=y_labels  # Set tick labels\n",
    ")\n",
    "\n",
    "# Save the figure as an HTML file\n",
    "fig.write_html('../docs/correlation_matrix.html', include_plotlyjs='cdn')"
   ]
  },
  {
   "cell_type": "code",
   "execution_count": null,
   "metadata": {},
   "outputs": [],
   "source": []
  },
  {
   "cell_type": "code",
   "execution_count": null,
   "metadata": {},
   "outputs": [],
   "source": []
  },
  {
   "cell_type": "code",
   "execution_count": null,
   "metadata": {},
   "outputs": [],
   "source": []
  }
 ],
 "metadata": {
  "kernelspec": {
   "display_name": "ics5110",
   "language": "python",
   "name": "python3"
  },
  "language_info": {
   "codemirror_mode": {
    "name": "ipython",
    "version": 3
   },
   "file_extension": ".py",
   "mimetype": "text/x-python",
   "name": "python",
   "nbconvert_exporter": "python",
   "pygments_lexer": "ipython3",
   "version": "3.12.7"
  }
 },
 "nbformat": 4,
 "nbformat_minor": 2
}
